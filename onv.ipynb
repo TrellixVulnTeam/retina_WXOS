{
  "nbformat": 4,
  "nbformat_minor": 0,
  "metadata": {
    "colab": {
      "name": "onv.ipynb",
      "provenance": [],
      "authorship_tag": "ABX9TyMqi9CjVutEmyFba1iN1zJB",
      "include_colab_link": true
    },
    "kernelspec": {
      "name": "python3",
      "display_name": "Python 3"
    },
    "language_info": {
      "name": "python"
    }
  },
  "cells": [
    {
      "cell_type": "markdown",
      "metadata": {
        "id": "view-in-github",
        "colab_type": "text"
      },
      "source": [
        "<a href=\"https://colab.research.google.com/github/taasinsaquib/retina/blob/main/onv.ipynb\" target=\"_parent\"><img src=\"https://colab.research.google.com/assets/colab-badge.svg\" alt=\"Open In Colab\"/></a>"
      ]
    },
    {
      "cell_type": "markdown",
      "metadata": {
        "id": "nsCJjTVquO5H"
      },
      "source": [
        "# Setup"
      ]
    },
    {
      "cell_type": "code",
      "metadata": {
        "colab": {
          "base_uri": "https://localhost:8080/"
        },
        "id": "jHBb8V6usYFo",
        "outputId": "bae15f23-cffa-48b3-d600-26520692f65e"
      },
      "source": [
        "from google.colab import drive\n",
        "drive.mount('/content/drive')"
      ],
      "execution_count": 1,
      "outputs": [
        {
          "output_type": "stream",
          "text": [
            "Mounted at /content/drive\n"
          ],
          "name": "stdout"
        }
      ]
    },
    {
      "cell_type": "code",
      "metadata": {
        "colab": {
          "base_uri": "https://localhost:8080/"
        },
        "id": "ggOHXlGbtWjE",
        "outputId": "fc3da6d2-40a1-4bfa-9d5e-0456f549c6e5"
      },
      "source": [
        "%cd 'drive/MyDrive/thesis_stuff/'"
      ],
      "execution_count": 2,
      "outputs": [
        {
          "output_type": "stream",
          "text": [
            "/content/drive/MyDrive/thesis_stuff\n"
          ],
          "name": "stdout"
        }
      ]
    },
    {
      "cell_type": "code",
      "metadata": {
        "id": "6DQ0Q3YItx8M"
      },
      "source": [
        "! pip install livelossplot torchinfo --quiet"
      ],
      "execution_count": 3,
      "outputs": []
    },
    {
      "cell_type": "code",
      "metadata": {
        "id": "QF6Uh3Qet9Xj"
      },
      "source": [
        "import numpy as np\n",
        "import matplotlib.pyplot as plt\n",
        "\n",
        "import torch\n",
        "import torch.nn as nn\n",
        "from   torch.utils.data import Dataset, DataLoader, TensorDataset, random_split\n",
        "import torchvision\n",
        "from   torchvision import transforms, utils\n",
        "from   torchinfo   import summary\n",
        "\n",
        "import time\n",
        "import copy\n",
        "import sys\n",
        "\n",
        "# specific package for visualization\n",
        "from livelossplot import PlotLosses"
      ],
      "execution_count": 4,
      "outputs": []
    },
    {
      "cell_type": "code",
      "metadata": {
        "id": "wZLmVRyGuDEj"
      },
      "source": [
        "device = torch.device('cuda' if torch.cuda.is_available() else 'cpu')"
      ],
      "execution_count": 6,
      "outputs": []
    },
    {
      "cell_type": "code",
      "metadata": {
        "id": "s7eP_HOVuEJq"
      },
      "source": [
        "seed = 28\n",
        "\n",
        "# ONV has 14400 photoreceptors, reshape to a square for RESNET\n",
        "w = 120\n",
        "h = 120"
      ],
      "execution_count": 16,
      "outputs": []
    },
    {
      "cell_type": "markdown",
      "metadata": {
        "id": "-vn8N5DVuvkE"
      },
      "source": [
        "# Data"
      ]
    },
    {
      "cell_type": "markdown",
      "metadata": {
        "id": "0DRWq6Zxu0Mf"
      },
      "source": [
        "## Combine and Shuffle Collected Data"
      ]
    },
    {
      "cell_type": "code",
      "metadata": {
        "id": "_UUKpKlpuw7Q"
      },
      "source": [
        "sizes = [0.1, 0.2, 0.4, 0.6, 0.8, 1]\n",
        "types = ['L', 'R']"
      ],
      "execution_count": 12,
      "outputs": []
    },
    {
      "cell_type": "code",
      "metadata": {
        "id": "zktXx8ZXwDF3"
      },
      "source": [
        "data   = None\n",
        "labels = None\n",
        "\n",
        "for s in sizes:\n",
        "  for t in types:\n",
        "\n",
        "    d = np.load(f'./retina_LR/data_dist_{s}_{t}.npy')\n",
        "    l = np.load(f'./retina_LR/labels_dist_{s}_{t}.npy')\n",
        "\n",
        "    if data is None:\n",
        "      data   = d\n",
        "      labels = l\n",
        "  \n",
        "    else:\n",
        "      data   = np.vstack((data, d))\n",
        "      labels = np.vstack((labels, l))"
      ],
      "execution_count": 13,
      "outputs": []
    },
    {
      "cell_type": "code",
      "metadata": {
        "id": "cyZ7UiSEwkxO"
      },
      "source": [
        "shuffler = np.random.RandomState(seed=seed).permutation(len(labels))\n",
        "\n",
        "data_shuffled   = data[shuffler]\n",
        "labels_shuffled = labels[shuffler]\n",
        "\n",
        "np.save('./retina_LR/data_combined',   data_shuffled)\n",
        "np.save('./retina_LR/labels_combined', labels_shuffled)"
      ],
      "execution_count": 14,
      "outputs": []
    },
    {
      "cell_type": "markdown",
      "metadata": {
        "id": "BN16cwA4u3iK"
      },
      "source": [
        "## Load Combined Data"
      ]
    },
    {
      "cell_type": "code",
      "metadata": {
        "colab": {
          "base_uri": "https://localhost:8080/"
        },
        "id": "kq_Kz7hPu5ez",
        "outputId": "f0ec29d8-b85b-4891-8e40-57803da66a65"
      },
      "source": [
        "data   = np.load('./retina_LR/data_combined.npy')\n",
        "labels = np.load('./retina_LR/labels_combined.npy')\n",
        "print(data.shape, labels.shape)"
      ],
      "execution_count": 15,
      "outputs": [
        {
          "output_type": "stream",
          "text": [
            "(4080, 14400) (4080, 3)\n"
          ],
          "name": "stdout"
        }
      ]
    },
    {
      "cell_type": "markdown",
      "metadata": {
        "id": "7y9MK_3gxlHt"
      },
      "source": [
        "##Create Torch Datasets (Loaders)"
      ]
    },
    {
      "cell_type": "code",
      "metadata": {
        "id": "kqa_PsHgxhO3"
      },
      "source": [
        "class ONVData(Dataset):\n",
        "\n",
        "    def __init__(self, subset, transform=None):\n",
        "        self.subset = subset\n",
        "        self.transform = transform\n",
        "\n",
        "    def __len__(self):\n",
        "        return len(self.subset)\n",
        "\n",
        "    def __getitem__(self, index):\n",
        "\n",
        "        x, y = self.subset[index]\n",
        "\n",
        "        # ResNET 2 channels\n",
        "\n",
        "        # TODO: make square 120x120\n",
        "        x = np.resize(x, (w, h))\n",
        "\n",
        "        posIdx = np.where(x == 1)\n",
        "        negIdx = np.where(x == -1)\n",
        "\n",
        "        channel1 = channel2 = np.zeros((w, h))\n",
        "        newData = np.zeros((2, w, h), dtype=np.float)\n",
        "\n",
        "        newData[0][posIdx] = 1\n",
        "        newData[1][negIdx] = -1\n",
        "\n",
        "        # print(type(x))\n",
        "        x = torch.from_numpy(newData)\n",
        "        # print(type(x))\n",
        "\n",
        "        if self.transform:\n",
        "          x = self.transform(x)\n",
        "\n",
        "        return x, y"
      ],
      "execution_count": 17,
      "outputs": []
    },
    {
      "cell_type": "code",
      "metadata": {
        "id": "MxGWVjjCyZ9a"
      },
      "source": [
        "X_data_tensor = torch.from_numpy(data).float()\n",
        "y_data_tensor = torch.from_numpy(labels).float()\n",
        "init_dataset = TensorDataset(X_data_tensor, y_data_tensor)"
      ],
      "execution_count": 18,
      "outputs": []
    },
    {
      "cell_type": "code",
      "metadata": {
        "id": "JFMRQTiFybH0"
      },
      "source": [
        "# split train, val, test\n",
        "lengths = np.array([0.7, 0.1, 0.2])\n",
        "lengths *= int(len(init_dataset))\n",
        "lengths = np.rint(lengths)\n",
        "lengths = np.asarray(lengths, dtype=np.int32)\n",
        "\n",
        "# lengths[1] += 1"
      ],
      "execution_count": 19,
      "outputs": []
    },
    {
      "cell_type": "code",
      "metadata": {
        "colab": {
          "base_uri": "https://localhost:8080/"
        },
        "id": "umhGXw1Hydsd",
        "outputId": "38ce256c-3642-4ebd-c74e-ba589a8ade0b"
      },
      "source": [
        "print(lengths, np.sum(lengths), len(init_dataset))"
      ],
      "execution_count": 20,
      "outputs": [
        {
          "output_type": "stream",
          "text": [
            "[2856  408  816] 4080 4080\n"
          ],
          "name": "stdout"
        }
      ]
    },
    {
      "cell_type": "code",
      "metadata": {
        "id": "HZ3YOgljyfOe"
      },
      "source": [
        "subset_train, subset_val, subset_test = random_split(init_dataset, lengths, generator=torch.Generator().manual_seed(seed)) \n",
        "\n",
        "train_data = ONVData(\n",
        "    subset_train, transform=None)\n",
        "\n",
        "val_data = ONVData(\n",
        "    subset_val, transform=None)\n",
        "\n",
        "test_data = ONVData(\n",
        "    subset_test, transform=None)\n",
        "\n",
        "dataloaders = {\n",
        "    'train': torch.utils.data.DataLoader(train_data, batch_size=32, shuffle=True,  num_workers=1),\n",
        "    'val':   torch.utils.data.DataLoader(val_data,   batch_size=8,  shuffle=False, num_workers=1),\n",
        "    'test':  torch.utils.data.DataLoader(test_data,  batch_size=8,  shuffle=False, num_workers=1),\n",
        "}"
      ],
      "execution_count": 22,
      "outputs": []
    },
    {
      "cell_type": "code",
      "metadata": {
        "id": "7X6HuoqEzPxW"
      },
      "source": [
        ""
      ],
      "execution_count": null,
      "outputs": []
    }
  ]
}