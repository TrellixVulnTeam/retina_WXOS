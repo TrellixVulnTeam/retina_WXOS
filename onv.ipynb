{
  "nbformat": 4,
  "nbformat_minor": 0,
  "metadata": {
    "colab": {
      "name": "onv.ipynb",
      "provenance": [],
      "authorship_tag": "ABX9TyOJHCsarHx2C0t2wJLvhq3S",
      "include_colab_link": true
    },
    "kernelspec": {
      "name": "python3",
      "display_name": "Python 3"
    },
    "language_info": {
      "name": "python"
    },
    "accelerator": "GPU",
    "widgets": {
      "application/vnd.jupyter.widget-state+json": {
        "358b5a61f1a843928f7b8dfd82da978a": {
          "model_module": "@jupyter-widgets/controls",
          "model_name": "HBoxModel",
          "state": {
            "_view_name": "HBoxView",
            "_dom_classes": [],
            "_model_name": "HBoxModel",
            "_view_module": "@jupyter-widgets/controls",
            "_model_module_version": "1.5.0",
            "_view_count": null,
            "_view_module_version": "1.5.0",
            "box_style": "",
            "layout": "IPY_MODEL_ba6907ad99ae4aa89e660ea219ca5143",
            "_model_module": "@jupyter-widgets/controls",
            "children": [
              "IPY_MODEL_01ea103d430846cf9906878f70405669",
              "IPY_MODEL_5d749f06f26c4cc4966bcc185b41096c"
            ]
          }
        },
        "ba6907ad99ae4aa89e660ea219ca5143": {
          "model_module": "@jupyter-widgets/base",
          "model_name": "LayoutModel",
          "state": {
            "_view_name": "LayoutView",
            "grid_template_rows": null,
            "right": null,
            "justify_content": null,
            "_view_module": "@jupyter-widgets/base",
            "overflow": null,
            "_model_module_version": "1.2.0",
            "_view_count": null,
            "flex_flow": null,
            "width": null,
            "min_width": null,
            "border": null,
            "align_items": null,
            "bottom": null,
            "_model_module": "@jupyter-widgets/base",
            "top": null,
            "grid_column": null,
            "overflow_y": null,
            "overflow_x": null,
            "grid_auto_flow": null,
            "grid_area": null,
            "grid_template_columns": null,
            "flex": null,
            "_model_name": "LayoutModel",
            "justify_items": null,
            "grid_row": null,
            "max_height": null,
            "align_content": null,
            "visibility": null,
            "align_self": null,
            "height": null,
            "min_height": null,
            "padding": null,
            "grid_auto_rows": null,
            "grid_gap": null,
            "max_width": null,
            "order": null,
            "_view_module_version": "1.2.0",
            "grid_template_areas": null,
            "object_position": null,
            "object_fit": null,
            "grid_auto_columns": null,
            "margin": null,
            "display": null,
            "left": null
          }
        },
        "01ea103d430846cf9906878f70405669": {
          "model_module": "@jupyter-widgets/controls",
          "model_name": "FloatProgressModel",
          "state": {
            "_view_name": "ProgressView",
            "style": "IPY_MODEL_b48ac283eb6243808e79496e863cda13",
            "_dom_classes": [],
            "description": "100%",
            "_model_name": "FloatProgressModel",
            "bar_style": "success",
            "max": 46830571,
            "_view_module": "@jupyter-widgets/controls",
            "_model_module_version": "1.5.0",
            "value": 46830571,
            "_view_count": null,
            "_view_module_version": "1.5.0",
            "orientation": "horizontal",
            "min": 0,
            "description_tooltip": null,
            "_model_module": "@jupyter-widgets/controls",
            "layout": "IPY_MODEL_c81fcdbd89a147508714d8ddb8bbfa53"
          }
        },
        "5d749f06f26c4cc4966bcc185b41096c": {
          "model_module": "@jupyter-widgets/controls",
          "model_name": "HTMLModel",
          "state": {
            "_view_name": "HTMLView",
            "style": "IPY_MODEL_9afe122dfc0d4b6fa6a200c4e8eeb6cf",
            "_dom_classes": [],
            "description": "",
            "_model_name": "HTMLModel",
            "placeholder": "​",
            "_view_module": "@jupyter-widgets/controls",
            "_model_module_version": "1.5.0",
            "value": " 44.7M/44.7M [00:00&lt;00:00, 145MB/s]",
            "_view_count": null,
            "_view_module_version": "1.5.0",
            "description_tooltip": null,
            "_model_module": "@jupyter-widgets/controls",
            "layout": "IPY_MODEL_088b769ec42b4e4cabf307b169cce266"
          }
        },
        "b48ac283eb6243808e79496e863cda13": {
          "model_module": "@jupyter-widgets/controls",
          "model_name": "ProgressStyleModel",
          "state": {
            "_view_name": "StyleView",
            "_model_name": "ProgressStyleModel",
            "description_width": "initial",
            "_view_module": "@jupyter-widgets/base",
            "_model_module_version": "1.5.0",
            "_view_count": null,
            "_view_module_version": "1.2.0",
            "bar_color": null,
            "_model_module": "@jupyter-widgets/controls"
          }
        },
        "c81fcdbd89a147508714d8ddb8bbfa53": {
          "model_module": "@jupyter-widgets/base",
          "model_name": "LayoutModel",
          "state": {
            "_view_name": "LayoutView",
            "grid_template_rows": null,
            "right": null,
            "justify_content": null,
            "_view_module": "@jupyter-widgets/base",
            "overflow": null,
            "_model_module_version": "1.2.0",
            "_view_count": null,
            "flex_flow": null,
            "width": null,
            "min_width": null,
            "border": null,
            "align_items": null,
            "bottom": null,
            "_model_module": "@jupyter-widgets/base",
            "top": null,
            "grid_column": null,
            "overflow_y": null,
            "overflow_x": null,
            "grid_auto_flow": null,
            "grid_area": null,
            "grid_template_columns": null,
            "flex": null,
            "_model_name": "LayoutModel",
            "justify_items": null,
            "grid_row": null,
            "max_height": null,
            "align_content": null,
            "visibility": null,
            "align_self": null,
            "height": null,
            "min_height": null,
            "padding": null,
            "grid_auto_rows": null,
            "grid_gap": null,
            "max_width": null,
            "order": null,
            "_view_module_version": "1.2.0",
            "grid_template_areas": null,
            "object_position": null,
            "object_fit": null,
            "grid_auto_columns": null,
            "margin": null,
            "display": null,
            "left": null
          }
        },
        "9afe122dfc0d4b6fa6a200c4e8eeb6cf": {
          "model_module": "@jupyter-widgets/controls",
          "model_name": "DescriptionStyleModel",
          "state": {
            "_view_name": "StyleView",
            "_model_name": "DescriptionStyleModel",
            "description_width": "",
            "_view_module": "@jupyter-widgets/base",
            "_model_module_version": "1.5.0",
            "_view_count": null,
            "_view_module_version": "1.2.0",
            "_model_module": "@jupyter-widgets/controls"
          }
        },
        "088b769ec42b4e4cabf307b169cce266": {
          "model_module": "@jupyter-widgets/base",
          "model_name": "LayoutModel",
          "state": {
            "_view_name": "LayoutView",
            "grid_template_rows": null,
            "right": null,
            "justify_content": null,
            "_view_module": "@jupyter-widgets/base",
            "overflow": null,
            "_model_module_version": "1.2.0",
            "_view_count": null,
            "flex_flow": null,
            "width": null,
            "min_width": null,
            "border": null,
            "align_items": null,
            "bottom": null,
            "_model_module": "@jupyter-widgets/base",
            "top": null,
            "grid_column": null,
            "overflow_y": null,
            "overflow_x": null,
            "grid_auto_flow": null,
            "grid_area": null,
            "grid_template_columns": null,
            "flex": null,
            "_model_name": "LayoutModel",
            "justify_items": null,
            "grid_row": null,
            "max_height": null,
            "align_content": null,
            "visibility": null,
            "align_self": null,
            "height": null,
            "min_height": null,
            "padding": null,
            "grid_auto_rows": null,
            "grid_gap": null,
            "max_width": null,
            "order": null,
            "_view_module_version": "1.2.0",
            "grid_template_areas": null,
            "object_position": null,
            "object_fit": null,
            "grid_auto_columns": null,
            "margin": null,
            "display": null,
            "left": null
          }
        }
      }
    }
  },
  "cells": [
    {
      "cell_type": "markdown",
      "metadata": {
        "id": "view-in-github",
        "colab_type": "text"
      },
      "source": [
        "<a href=\"https://colab.research.google.com/github/taasinsaquib/retina/blob/main/onv.ipynb\" target=\"_parent\"><img src=\"https://colab.research.google.com/assets/colab-badge.svg\" alt=\"Open In Colab\"/></a>"
      ]
    },
    {
      "cell_type": "markdown",
      "metadata": {
        "id": "nsCJjTVquO5H"
      },
      "source": [
        "# Setup"
      ]
    },
    {
      "cell_type": "code",
      "metadata": {
        "colab": {
          "base_uri": "https://localhost:8080/"
        },
        "id": "jHBb8V6usYFo",
        "outputId": "ac484a2f-415d-4e11-d4af-4d6b8f39cc4d"
      },
      "source": [
        "from google.colab import drive\n",
        "drive.mount('/content/drive')"
      ],
      "execution_count": 1,
      "outputs": [
        {
          "output_type": "stream",
          "text": [
            "Mounted at /content/drive\n"
          ],
          "name": "stdout"
        }
      ]
    },
    {
      "cell_type": "code",
      "metadata": {
        "colab": {
          "base_uri": "https://localhost:8080/"
        },
        "id": "ggOHXlGbtWjE",
        "outputId": "b68edefc-d2b0-4bdd-dc2f-3daf1a7d4f45"
      },
      "source": [
        "%cd 'drive/MyDrive/thesis_stuff/'"
      ],
      "execution_count": 2,
      "outputs": [
        {
          "output_type": "stream",
          "text": [
            "/content/drive/MyDrive/thesis_stuff\n"
          ],
          "name": "stdout"
        }
      ]
    },
    {
      "cell_type": "code",
      "metadata": {
        "id": "6DQ0Q3YItx8M"
      },
      "source": [
        "! pip install livelossplot torchinfo --quiet"
      ],
      "execution_count": 3,
      "outputs": []
    },
    {
      "cell_type": "code",
      "metadata": {
        "id": "QF6Uh3Qet9Xj"
      },
      "source": [
        "import numpy as np\n",
        "import matplotlib.pyplot as plt\n",
        "\n",
        "import torch\n",
        "import torch.nn as nn\n",
        "from   torch.utils.data import Dataset, DataLoader, TensorDataset, random_split\n",
        "import torchvision\n",
        "from   torchvision import transforms, utils\n",
        "from   torchinfo   import summary\n",
        "\n",
        "import time\n",
        "import copy\n",
        "import sys\n",
        "\n",
        "# specific package for visualization\n",
        "from livelossplot import PlotLosses"
      ],
      "execution_count": 4,
      "outputs": []
    },
    {
      "cell_type": "code",
      "metadata": {
        "id": "wZLmVRyGuDEj"
      },
      "source": [
        "device = torch.device('cuda' if torch.cuda.is_available() else 'cpu')"
      ],
      "execution_count": 5,
      "outputs": []
    },
    {
      "cell_type": "code",
      "metadata": {
        "id": "s7eP_HOVuEJq"
      },
      "source": [
        "seed = 28\n",
        "\n",
        "# ONV has 14400 photoreceptors, reshape to a square for RESNET\n",
        "w = 120\n",
        "h = 120"
      ],
      "execution_count": 6,
      "outputs": []
    },
    {
      "cell_type": "markdown",
      "metadata": {
        "id": "-vn8N5DVuvkE"
      },
      "source": [
        "# Data"
      ]
    },
    {
      "cell_type": "markdown",
      "metadata": {
        "id": "0DRWq6Zxu0Mf"
      },
      "source": [
        "## Combine and Shuffle Collected Data"
      ]
    },
    {
      "cell_type": "code",
      "metadata": {
        "id": "_UUKpKlpuw7Q"
      },
      "source": [
        "sizes = [0.1, 0.2, 0.4, 0.6, 0.8, 1]\n",
        "types = ['L', 'R']"
      ],
      "execution_count": 12,
      "outputs": []
    },
    {
      "cell_type": "code",
      "metadata": {
        "id": "zktXx8ZXwDF3"
      },
      "source": [
        "data   = None\n",
        "labels = None\n",
        "\n",
        "for s in sizes:\n",
        "  for t in types:\n",
        "\n",
        "    d = np.load(f'./retina_LR/data_dist_{s}_{t}.npy')\n",
        "    l = np.load(f'./retina_LR/labels_dist_{s}_{t}.npy')\n",
        "\n",
        "    if data is None:\n",
        "      data   = d\n",
        "      labels = l\n",
        "  \n",
        "    else:\n",
        "      data   = np.vstack((data, d))\n",
        "      labels = np.vstack((labels, l))"
      ],
      "execution_count": 13,
      "outputs": []
    },
    {
      "cell_type": "code",
      "metadata": {
        "id": "cyZ7UiSEwkxO"
      },
      "source": [
        "shuffler = np.random.RandomState(seed=seed).permutation(len(labels))\n",
        "\n",
        "data_shuffled   = data[shuffler]\n",
        "labels_shuffled = labels[shuffler]\n",
        "\n",
        "np.save('./retina_LR/data_combined',   data_shuffled)\n",
        "np.save('./retina_LR/labels_combined', labels_shuffled)"
      ],
      "execution_count": 14,
      "outputs": []
    },
    {
      "cell_type": "markdown",
      "metadata": {
        "id": "BN16cwA4u3iK"
      },
      "source": [
        "## Load Combined Data"
      ]
    },
    {
      "cell_type": "code",
      "metadata": {
        "colab": {
          "base_uri": "https://localhost:8080/"
        },
        "id": "kq_Kz7hPu5ez",
        "outputId": "1739387e-a99c-44fb-f532-7f37375f52e8"
      },
      "source": [
        "data   = np.load('./retina_LR/data_combined.npy')\n",
        "labels = np.load('./retina_LR/labels_combined.npy')\n",
        "print(data.shape, labels.shape)"
      ],
      "execution_count": 7,
      "outputs": [
        {
          "output_type": "stream",
          "text": [
            "(4080, 14400) (4080, 3)\n"
          ],
          "name": "stdout"
        }
      ]
    },
    {
      "cell_type": "markdown",
      "metadata": {
        "id": "7y9MK_3gxlHt"
      },
      "source": [
        "##Create Torch Datasets (Loaders)"
      ]
    },
    {
      "cell_type": "code",
      "metadata": {
        "id": "kqa_PsHgxhO3"
      },
      "source": [
        "class ONVData(Dataset):\n",
        "\n",
        "    def __init__(self, subset, transform=None):\n",
        "        self.subset = subset\n",
        "        self.transform = transform\n",
        "\n",
        "    def __len__(self):\n",
        "        return len(self.subset)\n",
        "\n",
        "    def __getitem__(self, index):\n",
        "\n",
        "        x, y = self.subset[index]\n",
        "\n",
        "        # ResNET 2 channels\n",
        "\n",
        "        # TODO: make square 120x120\n",
        "        x = np.resize(x, (w, h))\n",
        "\n",
        "        posIdx = np.where(x == 1)\n",
        "        negIdx = np.where(x == -1)\n",
        "\n",
        "        channel1 = channel2 = np.zeros((w, h))\n",
        "        newData = np.zeros((2, w, h), dtype=np.float)\n",
        "\n",
        "        newData[0][posIdx] = 1\n",
        "        newData[1][negIdx] = -1\n",
        "\n",
        "        # print(type(x))\n",
        "        x = torch.from_numpy(newData)\n",
        "        # print(type(x))\n",
        "\n",
        "        if self.transform:\n",
        "          x = self.transform(x)\n",
        "\n",
        "        return x, y"
      ],
      "execution_count": 8,
      "outputs": []
    },
    {
      "cell_type": "code",
      "metadata": {
        "id": "MxGWVjjCyZ9a"
      },
      "source": [
        "X_data_tensor = torch.from_numpy(data).float()\n",
        "y_data_tensor = torch.from_numpy(labels).float()\n",
        "init_dataset = TensorDataset(X_data_tensor, y_data_tensor)"
      ],
      "execution_count": 9,
      "outputs": []
    },
    {
      "cell_type": "code",
      "metadata": {
        "id": "JFMRQTiFybH0"
      },
      "source": [
        "# split train, val, test\n",
        "lengths = np.array([0.7, 0.1, 0.2])\n",
        "lengths *= int(len(init_dataset))\n",
        "lengths = np.rint(lengths)\n",
        "lengths = np.asarray(lengths, dtype=np.int32)\n",
        "\n",
        "# lengths[1] += 1"
      ],
      "execution_count": 10,
      "outputs": []
    },
    {
      "cell_type": "code",
      "metadata": {
        "colab": {
          "base_uri": "https://localhost:8080/"
        },
        "id": "umhGXw1Hydsd",
        "outputId": "87f44ffa-cfc9-4447-fe26-5fe239977a87"
      },
      "source": [
        "print(lengths, np.sum(lengths), len(init_dataset))"
      ],
      "execution_count": 11,
      "outputs": [
        {
          "output_type": "stream",
          "text": [
            "[2856  408  816] 4080 4080\n"
          ],
          "name": "stdout"
        }
      ]
    },
    {
      "cell_type": "code",
      "metadata": {
        "id": "HZ3YOgljyfOe"
      },
      "source": [
        "subset_train, subset_val, subset_test = random_split(init_dataset, lengths, generator=torch.Generator().manual_seed(seed)) \n",
        "\n",
        "train_data = ONVData(\n",
        "    subset_train, transform=None)\n",
        "\n",
        "val_data = ONVData(\n",
        "    subset_val, transform=None)\n",
        "\n",
        "test_data = ONVData(\n",
        "    subset_test, transform=None)\n",
        "\n",
        "dataloaders = {\n",
        "    'train': torch.utils.data.DataLoader(train_data, batch_size=32, shuffle=True,  num_workers=1),\n",
        "    'val':   torch.utils.data.DataLoader(val_data,   batch_size=8,  shuffle=False, num_workers=1),\n",
        "    'test':  torch.utils.data.DataLoader(test_data,  batch_size=8,  shuffle=False, num_workers=1),\n",
        "}"
      ],
      "execution_count": 12,
      "outputs": []
    },
    {
      "cell_type": "markdown",
      "metadata": {
        "id": "zmqPHm-5zvp5"
      },
      "source": [
        "# Training Helpers"
      ]
    },
    {
      "cell_type": "code",
      "metadata": {
        "id": "I8JfSNGNzyoy"
      },
      "source": [
        "def train_model(model, optimizer, num_epochs):\n",
        "    # for each epoch... \n",
        "    liveloss = PlotLosses()\n",
        "\n",
        "    best_model = None\n",
        "    highest_val = 0\n",
        "\n",
        "    for epoch in range(num_epochs):\n",
        "      print('Training Model: ', model.__class__.__name__)\n",
        "      print('Epoch {}/{}'.format(epoch, num_epochs - 1))\n",
        "      print('-' * 10)\n",
        "      logs = {}\n",
        "\n",
        "      # let every epoch go through one training cycle and one validation cycle\n",
        "      # TRAINING AND THEN VALIDATION LOOP...\n",
        "      for phase in ['train', 'val']:\n",
        "        train_loss = 0\n",
        "        correct = 0\n",
        "        total = 0\n",
        "        batch_idx = 0\n",
        "\n",
        "        start_time = time.time()\n",
        "        # first loop is training, second loop through is validation\n",
        "        # this conditional section picks out either a train mode or validation mode\n",
        "        # depending on where we are in the overall training process\n",
        "        # SELECT PROPER MODE- train or val\n",
        "        if phase == 'train':\n",
        "          for param_group in optimizer.param_groups:\n",
        "            print(\"LR\", param_group['lr']) # print out the learning rate\n",
        "          model.train()  # Set model to training mode\n",
        "        else:\n",
        "          model.eval()   # Set model to evaluate mode\n",
        "        \n",
        "        for inputs, labels in dataloaders[phase]:\n",
        "\n",
        "          inputs = inputs.float()\n",
        "          labels = labels.float()\n",
        "\n",
        "          inputs = inputs.to(device)\n",
        "          labels = labels.to(device)\n",
        "\n",
        "          batch_idx += 1\n",
        "          \n",
        "          optimizer.zero_grad()\n",
        "          \n",
        "          with torch.set_grad_enabled(phase == 'train'):\n",
        "            #    the above line says to disable gradient tracking for validation\n",
        "            #    which makes sense since the model is in evluation mode and we \n",
        "            #    don't want to track gradients for validation)  \n",
        "            outputs = model(inputs)\n",
        "\n",
        "            # print(\"1\", outputs.type())\n",
        "            # print(\"2\", labels.type())\n",
        "\n",
        "            # compute loss where the loss function will be defined later\n",
        "            loss = loss_fn(outputs, labels)\n",
        "\n",
        "            # print(\"3\", loss.type())\n",
        "\n",
        "            # backward + optimize only if in training phase\n",
        "            if phase == 'train':\n",
        "              loss.backward()\n",
        "              optimizer.step()\n",
        "\n",
        "            train_loss += loss\n",
        "\n",
        "            c, t = numVectorsMatch(outputs, labels, atol=0.25)\n",
        "\n",
        "            correct += c\n",
        "            total   += t\n",
        "\n",
        "            print(correct, total)\n",
        "\n",
        "        # if phase == 'train':\n",
        "        #   if  epoch%5 == 0:\n",
        "        #   # prints for training and then validation (since the network will be in either train or eval mode at this point) \n",
        "        #     print(\" Training Epoch %d, Total loss %0.6f, iteration time %0.6f\" % (epoch, train_loss, time.time() - start_time))\n",
        "\n",
        "        # if phase == 'val' and epoch%5 == 0:\n",
        "        #   print(\" Validation Epoch %d, Total loss %0.6f, iteration time %0.6f\" % (epoch, train_loss, time.time() - start_time))\n",
        "\n",
        "        prefix = ''\n",
        "        if phase == 'val':\n",
        "            prefix = 'val_'\n",
        "            # tune.track.log(mean_accuracy=correct/total)\n",
        "\n",
        "            if (correct/total) > highest_val:\n",
        "              print('Best val till now: ', (correct/total))\n",
        "              highest_val = (correct/total)\n",
        "              # logs['what'] = highest_val\n",
        "              best_model = copy.deepcopy(model)\n",
        "\n",
        "        logs[prefix + 'loss'] = train_loss.item()/(batch_idx)\n",
        "        logs[prefix + 'acc'] = (correct / total) * 100\n",
        "\n",
        "      liveloss.update(logs)\n",
        "      liveloss.send()\n",
        "\n",
        "    # end of single epoch iteration... repeat of n epochs  \n",
        "    return best_model, model"
      ],
      "execution_count": 13,
      "outputs": []
    },
    {
      "cell_type": "code",
      "metadata": {
        "id": "QTRoJqIMz56o"
      },
      "source": [
        "def test_model(model):\n",
        "\n",
        "  total = correct = 0\n",
        "\n",
        "  for inputs, labels in dataloaders['test']:\n",
        "\n",
        "    inputs = inputs.float()\n",
        "    labels = labels.float()\n",
        "\n",
        "    inputs = inputs.to(device)\n",
        "    labels = labels.to(device)\n",
        "\n",
        "    outputs = model(inputs)\n",
        "\n",
        "    c, t = numVectorsMatch(outputs, labels, atol=0.25)\n",
        "    correct += c\n",
        "    total   += t\n",
        "\n",
        "  return (correct/total) * 100"
      ],
      "execution_count": 14,
      "outputs": []
    },
    {
      "cell_type": "code",
      "metadata": {
        "id": "1220jE0Vz7AT"
      },
      "source": [
        "def numVectorsMatch(outputs, labels, rtol = 0, atol = 0.5):\n",
        "\n",
        "  correct = 0\n",
        "  total   = labels.size(0)\n",
        "\n",
        "  # print(\"0\")\n",
        "\n",
        "  # rounding with torch\n",
        "  # n_digits = 2\n",
        "  # https://discuss.pytorch.org/t/round-tensor-to-x-decimal-places/25832\n",
        "  # labels = torch.round(labels * 10**n_digits) / (10**n_digits)\n",
        "  # outputs = torch.round(outputs * 10**n_digits) / (10**n_digits)\n",
        "\n",
        "  # print(\"1\")\n",
        "  close = torch.isclose(outputs, labels, rtol, atol)\n",
        "  # print(\"2\", close.size)\n",
        "  for r in close:\n",
        "    if torch.sum(r == True) == 3:\n",
        "      correct += 1\n",
        "  # print(\"3\")\n",
        "  # for i in range(0, len(outputs)):\n",
        "    # if torch.allclose(outputs[i], labels[i], rtol, atol):\n",
        "      # correct += 1\n",
        "      # print(outputs[i], labels[i])\n",
        "\n",
        "  return correct, total"
      ],
      "execution_count": 15,
      "outputs": []
    },
    {
      "cell_type": "markdown",
      "metadata": {
        "id": "RKFX3rNQz9-y"
      },
      "source": [
        "# Models"
      ]
    },
    {
      "cell_type": "markdown",
      "metadata": {
        "id": "jsnpRQHe0Oe4"
      },
      "source": [
        "## ANNs"
      ]
    },
    {
      "cell_type": "code",
      "metadata": {
        "id": "RjyicgYpz_uv"
      },
      "source": [
        "class ANN1(nn.Module):\n",
        "  def __init__(self):\n",
        "    super(ANN1, self).__init__()\n",
        "\n",
        "    self.fc1 = nn.Linear(w*h, 1000)\n",
        "    self.fc2 = nn.Linear(1000, 100)\n",
        "    self.fc3 = nn.Linear(100, 3)\n",
        "\n",
        "  def forward(self, x):\n",
        "\n",
        "    x = x.view(-1, w*h)\n",
        "\n",
        "    # print(x.shape)\n",
        "\n",
        "    x = self.fc1(x)\n",
        "    x = torch.relu(x)\n",
        "\n",
        "    x = self.fc2(x)\n",
        "    x = torch.relu(x)\n",
        "\n",
        "    x = self.fc3(x)\n",
        "\n",
        "    return x"
      ],
      "execution_count": null,
      "outputs": []
    },
    {
      "cell_type": "markdown",
      "metadata": {
        "id": "dQ8eOWgj0P9V"
      },
      "source": [
        "## ResNET Experiment"
      ]
    },
    {
      "cell_type": "code",
      "metadata": {
        "id": "oRH12dtE0SU6"
      },
      "source": [
        "class MyResNet(nn.Module):\n",
        "  def __init__(self, pretrained):\n",
        "    super(MyResNet, self).__init__()\n",
        "    \n",
        "    self.pretrained = pretrained\n",
        "    self.input = nn.Conv2d(2, 3, (2, 4280), stride=1, padding='same')\n",
        "\n",
        "  def forward(self, x):\n",
        "\n",
        "    # print(x.shape)\n",
        "\n",
        "    x = self.input(x)\n",
        "\n",
        "    # print(x.shape)\n",
        "\n",
        "    x = self.pretrained(x)\n",
        "\n",
        "    # print((x).type())\n",
        "\n",
        "    return x"
      ],
      "execution_count": 16,
      "outputs": []
    },
    {
      "cell_type": "code",
      "metadata": {
        "colab": {
          "base_uri": "https://localhost:8080/",
          "height": 83,
          "referenced_widgets": [
            "358b5a61f1a843928f7b8dfd82da978a",
            "ba6907ad99ae4aa89e660ea219ca5143",
            "01ea103d430846cf9906878f70405669",
            "5d749f06f26c4cc4966bcc185b41096c",
            "b48ac283eb6243808e79496e863cda13",
            "c81fcdbd89a147508714d8ddb8bbfa53",
            "9afe122dfc0d4b6fa6a200c4e8eeb6cf",
            "088b769ec42b4e4cabf307b169cce266"
          ]
        },
        "id": "G9MaQ2FE0kpZ",
        "outputId": "7183fe8f-c955-4dc3-8d14-2a127965a2cc"
      },
      "source": [
        "modResnet = torchvision.models.resnet18(pretrained=True)\n",
        "\n",
        "for param in modResnet.parameters():\n",
        "    param.requires_grad = False\n",
        "\n",
        "modResnet.fc = nn.Linear(512, 3)"
      ],
      "execution_count": 17,
      "outputs": [
        {
          "output_type": "stream",
          "text": [
            "Downloading: \"https://download.pytorch.org/models/resnet18-f37072fd.pth\" to /root/.cache/torch/hub/checkpoints/resnet18-f37072fd.pth\n"
          ],
          "name": "stderr"
        },
        {
          "output_type": "display_data",
          "data": {
            "application/vnd.jupyter.widget-view+json": {
              "model_id": "358b5a61f1a843928f7b8dfd82da978a",
              "version_minor": 0,
              "version_major": 2
            },
            "text/plain": [
              "HBox(children=(FloatProgress(value=0.0, max=46830571.0), HTML(value='')))"
            ]
          },
          "metadata": {
            "tags": []
          }
        },
        {
          "output_type": "stream",
          "text": [
            "\n"
          ],
          "name": "stdout"
        }
      ]
    },
    {
      "cell_type": "code",
      "metadata": {
        "colab": {
          "base_uri": "https://localhost:8080/"
        },
        "id": "mF2k8NSQ0nVc",
        "outputId": "dbe0e356-8606-4630-c2f8-08548b99de9f"
      },
      "source": [
        "summary(modResnet, input_size=(32, 3, w, h))"
      ],
      "execution_count": 18,
      "outputs": [
        {
          "output_type": "stream",
          "text": [
            "/usr/local/lib/python3.7/dist-packages/torch/nn/functional.py:718: UserWarning: Named tensors and all their associated APIs are an experimental feature and subject to change. Please do not use them for anything important until they are released as stable. (Triggered internally at  /pytorch/c10/core/TensorImpl.h:1156.)\n",
            "  return torch.max_pool2d(input, kernel_size, stride, padding, dilation, ceil_mode)\n"
          ],
          "name": "stderr"
        },
        {
          "output_type": "execute_result",
          "data": {
            "text/plain": [
              "==========================================================================================\n",
              "Layer (type:depth-idx)                   Output Shape              Param #\n",
              "==========================================================================================\n",
              "ResNet                                   --                        --\n",
              "├─Conv2d: 1-1                            [32, 64, 60, 60]          (9,408)\n",
              "├─BatchNorm2d: 1-2                       [32, 64, 60, 60]          (128)\n",
              "├─ReLU: 1-3                              [32, 64, 60, 60]          --\n",
              "├─MaxPool2d: 1-4                         [32, 64, 30, 30]          --\n",
              "├─Sequential: 1-5                        [32, 64, 30, 30]          --\n",
              "│    └─BasicBlock: 2-1                   [32, 64, 30, 30]          --\n",
              "│    │    └─Conv2d: 3-1                  [32, 64, 30, 30]          (36,864)\n",
              "│    │    └─BatchNorm2d: 3-2             [32, 64, 30, 30]          (128)\n",
              "│    │    └─ReLU: 3-3                    [32, 64, 30, 30]          --\n",
              "│    │    └─Conv2d: 3-4                  [32, 64, 30, 30]          (36,864)\n",
              "│    │    └─BatchNorm2d: 3-5             [32, 64, 30, 30]          (128)\n",
              "│    │    └─ReLU: 3-6                    [32, 64, 30, 30]          --\n",
              "│    └─BasicBlock: 2-2                   [32, 64, 30, 30]          --\n",
              "│    │    └─Conv2d: 3-7                  [32, 64, 30, 30]          (36,864)\n",
              "│    │    └─BatchNorm2d: 3-8             [32, 64, 30, 30]          (128)\n",
              "│    │    └─ReLU: 3-9                    [32, 64, 30, 30]          --\n",
              "│    │    └─Conv2d: 3-10                 [32, 64, 30, 30]          (36,864)\n",
              "│    │    └─BatchNorm2d: 3-11            [32, 64, 30, 30]          (128)\n",
              "│    │    └─ReLU: 3-12                   [32, 64, 30, 30]          --\n",
              "├─Sequential: 1-6                        [32, 128, 15, 15]         --\n",
              "│    └─BasicBlock: 2-3                   [32, 128, 15, 15]         --\n",
              "│    │    └─Conv2d: 3-13                 [32, 128, 15, 15]         (73,728)\n",
              "│    │    └─BatchNorm2d: 3-14            [32, 128, 15, 15]         (256)\n",
              "│    │    └─ReLU: 3-15                   [32, 128, 15, 15]         --\n",
              "│    │    └─Conv2d: 3-16                 [32, 128, 15, 15]         (147,456)\n",
              "│    │    └─BatchNorm2d: 3-17            [32, 128, 15, 15]         (256)\n",
              "│    │    └─Sequential: 3-18             [32, 128, 15, 15]         (8,448)\n",
              "│    │    └─ReLU: 3-19                   [32, 128, 15, 15]         --\n",
              "│    └─BasicBlock: 2-4                   [32, 128, 15, 15]         --\n",
              "│    │    └─Conv2d: 3-20                 [32, 128, 15, 15]         (147,456)\n",
              "│    │    └─BatchNorm2d: 3-21            [32, 128, 15, 15]         (256)\n",
              "│    │    └─ReLU: 3-22                   [32, 128, 15, 15]         --\n",
              "│    │    └─Conv2d: 3-23                 [32, 128, 15, 15]         (147,456)\n",
              "│    │    └─BatchNorm2d: 3-24            [32, 128, 15, 15]         (256)\n",
              "│    │    └─ReLU: 3-25                   [32, 128, 15, 15]         --\n",
              "├─Sequential: 1-7                        [32, 256, 8, 8]           --\n",
              "│    └─BasicBlock: 2-5                   [32, 256, 8, 8]           --\n",
              "│    │    └─Conv2d: 3-26                 [32, 256, 8, 8]           (294,912)\n",
              "│    │    └─BatchNorm2d: 3-27            [32, 256, 8, 8]           (512)\n",
              "│    │    └─ReLU: 3-28                   [32, 256, 8, 8]           --\n",
              "│    │    └─Conv2d: 3-29                 [32, 256, 8, 8]           (589,824)\n",
              "│    │    └─BatchNorm2d: 3-30            [32, 256, 8, 8]           (512)\n",
              "│    │    └─Sequential: 3-31             [32, 256, 8, 8]           (33,280)\n",
              "│    │    └─ReLU: 3-32                   [32, 256, 8, 8]           --\n",
              "│    └─BasicBlock: 2-6                   [32, 256, 8, 8]           --\n",
              "│    │    └─Conv2d: 3-33                 [32, 256, 8, 8]           (589,824)\n",
              "│    │    └─BatchNorm2d: 3-34            [32, 256, 8, 8]           (512)\n",
              "│    │    └─ReLU: 3-35                   [32, 256, 8, 8]           --\n",
              "│    │    └─Conv2d: 3-36                 [32, 256, 8, 8]           (589,824)\n",
              "│    │    └─BatchNorm2d: 3-37            [32, 256, 8, 8]           (512)\n",
              "│    │    └─ReLU: 3-38                   [32, 256, 8, 8]           --\n",
              "├─Sequential: 1-8                        [32, 512, 4, 4]           --\n",
              "│    └─BasicBlock: 2-7                   [32, 512, 4, 4]           --\n",
              "│    │    └─Conv2d: 3-39                 [32, 512, 4, 4]           (1,179,648)\n",
              "│    │    └─BatchNorm2d: 3-40            [32, 512, 4, 4]           (1,024)\n",
              "│    │    └─ReLU: 3-41                   [32, 512, 4, 4]           --\n",
              "│    │    └─Conv2d: 3-42                 [32, 512, 4, 4]           (2,359,296)\n",
              "│    │    └─BatchNorm2d: 3-43            [32, 512, 4, 4]           (1,024)\n",
              "│    │    └─Sequential: 3-44             [32, 512, 4, 4]           (132,096)\n",
              "│    │    └─ReLU: 3-45                   [32, 512, 4, 4]           --\n",
              "│    └─BasicBlock: 2-8                   [32, 512, 4, 4]           --\n",
              "│    │    └─Conv2d: 3-46                 [32, 512, 4, 4]           (2,359,296)\n",
              "│    │    └─BatchNorm2d: 3-47            [32, 512, 4, 4]           (1,024)\n",
              "│    │    └─ReLU: 3-48                   [32, 512, 4, 4]           --\n",
              "│    │    └─Conv2d: 3-49                 [32, 512, 4, 4]           (2,359,296)\n",
              "│    │    └─BatchNorm2d: 3-50            [32, 512, 4, 4]           (1,024)\n",
              "│    │    └─ReLU: 3-51                   [32, 512, 4, 4]           --\n",
              "├─AdaptiveAvgPool2d: 1-9                 [32, 512, 1, 1]           --\n",
              "├─Linear: 1-10                           [32, 3]                   1,539\n",
              "==========================================================================================\n",
              "Total params: 11,178,051\n",
              "Trainable params: 1,539\n",
              "Non-trainable params: 11,176,512\n",
              "Total mult-adds (G): 17.70\n",
              "==========================================================================================\n",
              "Input size (MB): 5.53\n",
              "Forward/backward pass size (MB): 372.57\n",
              "Params size (MB): 44.71\n",
              "Estimated Total Size (MB): 422.81\n",
              "=========================================================================================="
            ]
          },
          "metadata": {
            "tags": []
          },
          "execution_count": 18
        }
      ]
    },
    {
      "cell_type": "markdown",
      "metadata": {
        "id": "auUlq_IO0wAR"
      },
      "source": [
        "# Train"
      ]
    },
    {
      "cell_type": "code",
      "metadata": {
        "id": "-WLdDKX840ba"
      },
      "source": [
        "loss_fn = nn.MSELoss()"
      ],
      "execution_count": 19,
      "outputs": []
    },
    {
      "cell_type": "code",
      "metadata": {
        "id": "vJkxc0CP4yyp"
      },
      "source": [
        "def pipeline(model, lr=1e-2, weight_decay=0.1, epochs=25):\n",
        "  \n",
        "  opt = torch.optim.Adam(model.parameters(), lr, weight_decay=weight_decay)\n",
        "  \n",
        "  best_model, m = train_model(model, opt, num_epochs=epochs)\n",
        "\n",
        "  return best_model, m"
      ],
      "execution_count": 20,
      "outputs": []
    },
    {
      "cell_type": "markdown",
      "metadata": {
        "id": "YhZn8ABTRCir"
      },
      "source": [
        "## ResNET experiment \\#1\n",
        "* got _v2 to 78% accuracy\n",
        "  * TODO: need to make vector comparison margin tighter, like 0.1\n",
        "* inference works sometimes, better when in middle of retina\n",
        "  * polarity sometimes switches\n",
        "* can't generalize well to odd movement since data is all even\n",
        "  * TODO: collect more of this\n"
      ]
    },
    {
      "cell_type": "code",
      "metadata": {
        "id": "5WP1EH7N0wna"
      },
      "source": [
        "model = MyResNet(modResnet)\n",
        "model.float()\n",
        "model.to(device)"
      ],
      "execution_count": null,
      "outputs": []
    },
    {
      "cell_type": "code",
      "metadata": {
        "colab": {
          "base_uri": "https://localhost:8080/",
          "height": 687
        },
        "id": "C9dO--WF02mI",
        "outputId": "7637ca63-871f-45ab-e9b5-91abd56abc85"
      },
      "source": [
        "best, last = pipeline(model, epochs=5)"
      ],
      "execution_count": 22,
      "outputs": [
        {
          "output_type": "display_data",
          "data": {
            "image/png": "[encoded data removed]",
            "text/plain": [
              "<Figure size 864x576 with 2 Axes>"
            ]
          },
          "metadata": {
            "tags": [],
            "needs_background": "light"
          }
        },
        {
          "output_type": "stream",
          "text": [
            "Accuracy\n",
            "\ttraining         \t (min:   15.336, max:   57.563, cur:   57.353)\n",
            "\tvalidation       \t (min:   22.794, max:   60.049, cur:   60.049)\n",
            "Loss\n",
            "\ttraining         \t (min:    0.057, max:    0.978, cur:    0.057)\n",
            "\tvalidation       \t (min:    0.050, max:    0.150, cur:    0.050)\n"
          ],
          "name": "stdout"
        }
      ]
    },
    {
      "cell_type": "code",
      "metadata": {
        "colab": {
          "base_uri": "https://localhost:8080/",
          "height": 687
        },
        "id": "9JWaXr2D6lFp",
        "outputId": "c0aa207c-db53-490f-d152-feac4570389e"
      },
      "source": [
        "best, last = pipeline(best, epochs=10, lr=1e-3)"
      ],
      "execution_count": 49,
      "outputs": [
        {
          "output_type": "display_data",
          "data": {
            "image/png": "[encoded data removed]",
            "text/plain": [
              "<Figure size 864x576 with 2 Axes>"
            ]
          },
          "metadata": {
            "tags": [],
            "needs_background": "light"
          }
        },
        {
          "output_type": "stream",
          "text": [
            "Accuracy\n",
            "\ttraining         \t (min:   64.741, max:   70.413, cur:   70.063)\n",
            "\tvalidation       \t (min:   65.196, max:   73.529, cur:   73.529)\n",
            "Loss\n",
            "\ttraining         \t (min:    0.031, max:    0.041, cur:    0.031)\n",
            "\tvalidation       \t (min:    0.029, max:    0.039, cur:    0.030)\n"
          ],
          "name": "stdout"
        }
      ]
    },
    {
      "cell_type": "code",
      "metadata": {
        "colab": {
          "base_uri": "https://localhost:8080/"
        },
        "id": "G-W2dMq604OQ",
        "outputId": "0e3a018e-3bad-4ba1-c9e1-80b4397c4eaa"
      },
      "source": [
        "best.eval()\n",
        "acc = test_model(best)\n",
        "print(acc)"
      ],
      "execution_count": 50,
      "outputs": [
        {
          "output_type": "stream",
          "text": [
            "71.56862745098039\n"
          ],
          "name": "stdout"
        }
      ]
    },
    {
      "cell_type": "code",
      "metadata": {
        "id": "1IzbAd7605wp"
      },
      "source": [
        " torch.save(best, 'onv_resnet_v2')\n",
        " torch.save(best.state_dict(), 'onv_resnet_v2_dict')"
      ],
      "execution_count": 46,
      "outputs": []
    },
    {
      "cell_type": "code",
      "metadata": {
        "id": "8XX2LyjB08J2"
      },
      "source": [
        "m = torch.load('./onv_resnet_v2')"
      ],
      "execution_count": null,
      "outputs": []
    }
  ]
}